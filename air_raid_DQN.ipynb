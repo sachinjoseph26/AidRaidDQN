{
 "cells": [
  {
   "cell_type": "code",
   "execution_count": 1,
   "metadata": {},
   "outputs": [],
   "source": [
    "# Important: Code is mostly re-used from https://github.com/moduIo/Deep-Q-network/blob/master/DQN.ipynb\n",
    "# Code may change with more clean-ups and explanation\n",
    "import gym\n",
    "from collections import deque\n",
    "from IPython import display\n",
    "import matplotlib.pyplot as plt\n",
    "from dqn_agent import DQN_Agent\n",
    "from air_raid_utils import process_frame"
   ]
  },
  {
   "cell_type": "code",
   "execution_count": 2,
   "metadata": {},
   "outputs": [],
   "source": [
    "def show_state(env, step=0, info=\"\"):\n",
    "    plt.figure(3)\n",
    "    plt.clf()\n",
    "    plt.imshow(env)\n",
    "    plt.title(\"Step: %d %s\" % (step, info))\n",
    "    plt.axis('off')\n",
    "    display.clear_output(wait=True)\n",
    "    plt.show()"
   ]
  },
  {
   "cell_type": "code",
   "execution_count": 3,
   "metadata": {},
   "outputs": [
    {
     "data": {
      "image/png": "[encoded data removed]",
      "text/plain": [
       "<Figure size 640x480 with 1 Axes>"
      ]
     },
     "metadata": {},
     "output_type": "display_data"
    },
    {
     "name": "stdout",
     "output_type": "stream",
     "text": [
      "episode: 1/200, game score: 100.0, avg_10: 100.0, reward: 100.0, avg reward: 100.0, time: 402, total time: 403\n",
      "Saving: models/10k-memory_0-games.weights.h5\n"
     ]
    }
   ],
   "source": [
    "env = gym.make('AirRaidDeterministic-v0', render_mode=\"rgb_array\")\n",
    "state_size = (105, 80, 4)\n",
    "action_size = env.action_space.n\n",
    "episodes = 200  # 200\n",
    "batch_size = 32  # 64\n",
    "num_steps = 2500\n",
    "gamma = 0.9\n",
    "agent = DQN_Agent(env,state_size, action_size,episodes,num_steps,batch_size,gamma)\n",
    "\n",
    "load_model_name = \"\"\n",
    "if load_model_name != \"\":\n",
    "    agent.load(load_model_name)\n",
    "\n",
    "## Visualize state\n",
    "observation = env.reset()\n",
    "observation = env.step(1)\n",
    "for skip in range(2): # skip the start of each game/\n",
    "    observation = env.step(0)\n",
    "processed_observation = process_frame(observation[0])\n",
    "show_state(processed_observation)\n",
    "agent.train()"
   ]
  }
 ],
 "metadata": {
  "kernelspec": {
   "display_name": "rl_env",
   "language": "python",
   "name": "python3"
  },
  "language_info": {
   "codemirror_mode": {
    "name": "ipython",
    "version": 3
   },
   "file_extension": ".py",
   "mimetype": "text/x-python",
   "name": "python",
   "nbconvert_exporter": "python",
   "pygments_lexer": "ipython3",
   "version": "3.11.9"
  }
 },
 "nbformat": 4,
 "nbformat_minor": 2
}
